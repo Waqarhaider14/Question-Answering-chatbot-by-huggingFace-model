{
  "nbformat": 4,
  "nbformat_minor": 0,
  "metadata": {
    "colab": {
      "provenance": []
    },
    "kernelspec": {
      "name": "python3",
      "display_name": "Python 3"
    },
    "language_info": {
      "name": "python"
    }
  },
  "cells": [
    {
      "cell_type": "markdown",
      "source": [
        "Installing Haystack\n"
      ],
      "metadata": {
        "id": "uQhKmazRebeU"
      }
    },
    {
      "cell_type": "code",
      "execution_count": null,
      "metadata": {
        "id": "78NdjejVeUSw"
      },
      "outputs": [],
      "source": [
        "%%bash\n",
        "\n",
        "pip install --upgrade pip\n",
        "pip install farm-haystack[colab,inference]"
      ]
    },
    {
      "cell_type": "code",
      "source": [
        "from haystack.telemetry import tutorial_running\n",
        "\n",
        "tutorial_running(1)"
      ],
      "metadata": {
        "id": "GVdPWX6lezSl"
      },
      "execution_count": 45,
      "outputs": []
    },
    {
      "cell_type": "code",
      "source": [
        "import logging\n",
        "\n",
        "logging.basicConfig(format=\"%(levelname)s - %(name)s -  %(message)s\", level=logging.WARNING)\n",
        "logging.getLogger(\"haystack\").setLevel(logging.INFO)"
      ],
      "metadata": {
        "id": "IXjItOxRe6oY"
      },
      "execution_count": 46,
      "outputs": []
    },
    {
      "cell_type": "code",
      "source": [
        "from haystack.document_stores import InMemoryDocumentStore\n",
        "\n",
        "document_store = InMemoryDocumentStore(use_bm25=True)"
      ],
      "metadata": {
        "colab": {
          "base_uri": "https://localhost:8080/"
        },
        "id": "rJ3155oWe-wI",
        "outputId": "682a1785-15c6-4dba-b7d5-a266909c30ad"
      },
      "execution_count": 47,
      "outputs": [
        {
          "output_type": "stream",
          "name": "stderr",
          "text": [
            "INFO:haystack.modeling.utils:Using devices: CPU - Number of GPUs: 0\n"
          ]
        }
      ]
    },
    {
      "cell_type": "code",
      "source": [
        "doc_dir = \"data\""
      ],
      "metadata": {
        "id": "kRmMScQFfC62"
      },
      "execution_count": 48,
      "outputs": []
    },
    {
      "cell_type": "code",
      "source": [
        "import os\n",
        "from haystack.pipelines.standard_pipelines import TextIndexingPipeline\n",
        "\n",
        "files_to_index = [doc_dir + \"/\" + f for f in os.listdir(doc_dir)]\n",
        "indexing_pipeline = TextIndexingPipeline(document_store)\n",
        "indexing_pipeline.run_batch(file_paths=files_to_index)\n"
      ],
      "metadata": {
        "id": "5kGfkTBYZ1Ti",
        "colab": {
          "base_uri": "https://localhost:8080/"
        },
        "outputId": "b2de4ed2-80d0-4ba6-adff-52aa1ca3569c"
      },
      "execution_count": 51,
      "outputs": [
        {
          "output_type": "stream",
          "name": "stderr",
          "text": [
            "INFO:haystack.pipelines.base:It seems that an indexing Pipeline is run, so using the nodes' run method instead of run_batch.\n",
            "Converting files: 100%|██████████| 1/1 [00:00<00:00, 140.12it/s]\n",
            "Preprocessing: 100%|██████████| 1/1 [00:00<00:00, 106.02docs/s]\n",
            "Updating BM25 representation...: 100%|██████████| 9/9 [00:00<00:00, 4387.35 docs/s]\n"
          ]
        },
        {
          "output_type": "execute_result",
          "data": {
            "text/plain": [
              "{'documents': [<Document: {'content': \"Cardiovascular health is a crucial aspect of overall well-being, as it directly impacts the\\nproper functioning of the heart, the body's vital organ responsible for pumping blood and\\nensuring the supply of oxygen and nutrients to all tissues. Despite significant\\nadvancements in medical science, cardiovascular diseases continue to be a leading cause of\\nglobal mortality, emphasizing the need for a comprehensive understanding of heart health.\\nThis big document aims to explore various facets of cardiovascular health, including its\\nanatomy, common diseases, risk factors, prevention strategies, diagnostic methods,\\ntreatment options, the role of technology, psychological aspects, and initiatives for global\\ncardiovascular health improvement.\\nThe heart, a muscular organ situated in the chest, has a unique anatomy and physiology. It\\nconsists of four chambers – two atria and two ventricles – that contract and relax in a\\ncoordinated manner, allowing blood to flow efficiently throughout the body. Understanding\\nthe cardiac cycle, electrical impulses, and blood circulation is essential in comprehending\\nheart health and identifying potential issues.\\nSeveral cardiovascular diseases pose significant health threats. Coronary artery disease,\\nthe most common form, results from the build-up of plaque in the coronary arteries,\\npotentially leading to heart attacks. \", 'content_type': 'text', 'score': None, 'meta': {'_split_id': 0}, 'id_hash_keys': ['content'], 'embedding': None, 'id': '8a8ed8b7c648eaf41d8f4b3a74980de4'}>,\n",
              "  <Document: {'content': \"Hypertension, or high blood pressure, strains the heart\\nand blood vessels, increasing the risk of complications. Heart failure occurs when the heart\\ncannot pump blood adequately, while stroke arises from a blockage or rupture of blood\\nvessels in the brain. Additionally, arrhythmias disrupt the heart's normal rhythm and may\\nresult in serious consequences.\\nNumerous risk factors contribute to the development of cardiovascular diseases. Some\\nfactors, such as smoking, an unhealthy diet, physical inactivity, and excessive alcohol\\nconsumption, are modifiable and can be addressed through lifestyle modifications. Non\\x02modifiable risk factors, such as age, family history, and genetics, also play a role, but\\npreventive measures and early detection can mitigate their impact. Emerging risk factors,\\nlike air pollution and sleep disturbances, are gaining attention for their potential effects on\\nheart health.\\nPrevention is key in maintaining cardiovascular health. Adopting a heart-healthy diet, rich\\nin fruits, vegetables, whole grains, and lean proteins, can significantly reduce the risk of\\nheart disease. Regular physical activity, incorporating both aerobic exercises and strength\\ntraining, strengthens the heart and improves overall health. Smoking cessation and\\neffective stress management are also crucial in preventing cardiovascular diseases and\\npromoting longevity.\\n\", 'content_type': 'text', 'score': None, 'meta': {'_split_id': 1}, 'id_hash_keys': ['content'], 'embedding': None, 'id': 'ab2391c88e62c6862209b9115ac72a7f'}>,\n",
              "  <Document: {'content': \"Diagnosing cardiovascular diseases involves various methods, including the measurement\\nof cardiac biomarkers, non-invasive techniques like electrocardiograms and\\nechocardiograms, and invasive procedures like cardiac catheterization. Timely and\\naccurate diagnosis is essential for initiating appropriate treatment and management\\nstrategies.\\nTreatment options for cardiovascular diseases vary depending on the condition's severity.\\nMedications, including statins, beta-blockers, and antiplatelet drugs, are commonly\\nprescribed to manage heart conditions. In more severe cases, surgical interventions like\\nbypass surgery and angioplasty may be necessary to restore blood flow. However, lifestyle\\nchanges, such as maintaining a healthy diet and exercising regularly, remain a fundamental\\ncomponent of treatment for all patients.\\nTechnological advancements have significantly impacted cardiovascular health. Wearable\\ndevices, like smartwatches and fitness trackers, enable individuals to monitor their heart\\nrate and activity levels, promoting self-awareness and early detection of abnormalities.\\nTelemedicine has revolutionized healthcare, providing remote access to medical\\nconsultations and follow-ups, particularly beneficial for patients with limited mobility or\\nliving in remote areas. Additionally, cutting-edge imaging techniques, such as CT scans and\\nMRI, offer improved visualization of the heart and aid in accurate diagnoses.\\nPsychological and emotional well-being play a crucial role in cardiovascular health. \", 'content_type': 'text', 'score': None, 'meta': {'_split_id': 2}, 'id_hash_keys': ['content'], 'embedding': None, 'id': '31e0b93ca25e6e46ba161511c50bdac7'}>,\n",
              "  <Document: {'content': \"The\\nconnection between mental health and heart health is evident, with stress, anxiety, and\\ndepression contributing to heart disease development and exacerbation. Implementing\\ncoping strategies and joining support groups can provide patients with valuable emotional\\nsupport and reduce the impact of stress on heart health.\\nWomen's cardiovascular health deserves special attention, as gender-specific risk factors\\nand symptoms may manifest differently than in men. Disparities in cardiovascular care for\\nwomen have been identified, highlighting the importance of tailored healthcare and\\nawareness campaigns. Moreover, pregnancy-related heart conditions require careful\\nmonitoring and management to ensure both maternal and fetal well-being.\\nPediatric cardiovascular health focuses on congenital heart defects, present at birth, and\\nthe prevention of childhood obesity, a risk factor for future heart problems. Early diagnosis\\nand timely interventions can significantly improve outcomes for children with heart\\nconditions, offering them a healthier future.\\nAs individuals age, their cardiovascular system undergoes changes. Understanding age\\x02related modifications and adopting heart-healthy practices can help mitigate the effects of\\naging on the heart. Specialized care and preventive measures become essential to support\\nthe cardiovascular health of the elderly population.\\nOngoing research continues to uncover new insights into cardiovascular diseases and\\npotential treatments. \", 'content_type': 'text', 'score': None, 'meta': {'_split_id': 3}, 'id_hash_keys': ['content'], 'embedding': None, 'id': '5d15c7b6d24ef927b5d38b8c3984be5d'}>,\n",
              "  <Document: {'content': 'Promising interventions and therapies, such as gene therapy and\\nregenerative medicine, offer hope for the future of cardiovascular care. Collaboration\\nbetween researchers, clinicians, and policymakers is critical in translating these discoveries\\ninto effective healthcare practices.\\nGlobal cardiovascular health initiatives, led by organizations like the World Health\\nOrganization (WHO), aim to reduce the burden of cardiovascular diseases worldwide.\\nNational and regional efforts are essential in implementing preventative measures, raising\\nawareness, and improving access to quality cardiovascular care.\\nIn conclusion, this big document emphasizes the significance of cardiovascular health and\\nits impact on overall well-being. By understanding the anatomy, common diseases, risk\\nfactors, prevention strategies, diagnostics, treatment options, psychological aspects, and\\nglobal initiatives related to cardiovascular health, individuals and societies can work\\ntogether to prioritize heart health and ultimately reduce the prevalence of cardiovascular\\ndiseases.\\nCardiovascular health is a multifaceted topic that encompasses various aspects of heart\\nfunction, disease prevention, and treatment. The heart, as a central organ in the circulatory\\nsystem, is responsible for pumping blood and delivering oxygen and nutrients to all parts\\nof the body. However, several factors, such as sedentary lifestyles, poor dietary habits, and\\ngenetic predisposition, can contribute to the development of cardiovascular diseases. ', 'content_type': 'text', 'score': None, 'meta': {'_split_id': 4}, 'id_hash_keys': ['content'], 'embedding': None, 'id': 'de77e986c0ff67787130568b9d46e92a'}>,\n",
              "  <Document: {'content': 'This\\ncomprehensive document aims to delve deeper into the importance of cardiovascular\\nhealth and explore ways to improve heart health through prevention, diagnosis, and\\nmanagement.\\nCardiovascular diseases, including coronary artery disease, stroke, and heart failure,\\nremain major global health concerns. These conditions often have life-altering\\nconsequences, leading to reduced quality of life and premature death. As such, promoting\\ncardiovascular health should be a primary focus in public health campaigns and individual\\nwellness efforts.\\nOne essential aspect of maintaining a healthy heart is understanding the impact of lifestyle\\nchoices. A balanced diet, rich in fruits, vegetables, whole grains, and lean proteins, is\\ninstrumental in preventing heart disease. Conversely, a diet high in saturated fats, salt, and\\nsugar can contribute to the development of cardiovascular risk factors like hypertension\\nand obesity.\\nPhysical activity is another vital component of cardiovascular health. Regular exercise not\\nonly improves heart function but also helps manage weight, lower blood pressure, and\\nreduce stress. Incorporating moderate aerobic activities, such as brisk walking or cycling,\\ninto daily routines can have substantial benefits for heart health.\\n', 'content_type': 'text', 'score': None, 'meta': {'_split_id': 5}, 'id_hash_keys': ['content'], 'embedding': None, 'id': '66a50b6255d9e8be803b595b358938e4'}>,\n",
              "  <Document: {'content': 'Tobacco use is a significant risk factor for cardiovascular diseases, and quitting smoking is\\none of the most impactful actions an individual can take to protect their heart. Smoking\\ndamages blood vessels, reduces oxygen supply to tissues, and increases the likelihood of\\ndeveloping atherosclerosis, a condition where plaque builds up in the arteries.\\nEffective stress management is also essential for cardiovascular health. Chronic stress can\\nelevate blood pressure and trigger harmful coping mechanisms, such as overeating or\\nsmoking. Practicing relaxation techniques, like mindfulness meditation and yoga, can help\\nreduce stress and its impact on the heart.\\nRegular health check-ups and screenings are vital in detecting cardiovascular diseases\\nearly. Blood pressure measurements, cholesterol tests, and electrocardiograms are\\nstandard diagnostic tools used to assess heart health. Early detection enables timely\\ninterventions and improved outcomes.\\nIn addition to lifestyle modifications, medications play a crucial role in managing\\ncardiovascular diseases. Statins, antihypertensives, and antiplatelet agents are commonly\\nprescribed to control cholesterol levels, blood pressure, and prevent blood clots,\\nrespectively.\\nIn cases where medication and lifestyle changes are insufficient, surgical interventions may\\nbe necessary. ', 'content_type': 'text', 'score': None, 'meta': {'_split_id': 6}, 'id_hash_keys': ['content'], 'embedding': None, 'id': '3f07d566e71152349f142349cd27501'}>,\n",
              "  <Document: {'content': \"Procedures like coronary artery bypass grafting (CABG) and angioplasty with\\nstent placement help restore blood flow to the heart and alleviate symptoms.\\nAdvancements in medical technology have revolutionized the diagnosis and treatment of\\ncardiovascular diseases. Advanced imaging techniques, such as cardiac MRI and CT\\nangiography, provide detailed images of the heart's structures, aiding in accurate\\ndiagnoses.\\nTelemedicine and digital health platforms have expanded access to cardiovascular care,\\nespecially for patients in remote areas. These technologies enable remote consultations,\\nreal-time monitoring, and timely interventions, contributing to better patient outcomes.\\nPsychological well-being is a critical yet often overlooked aspect of cardiovascular health.\\nChronic stress, depression, and anxiety can negatively impact heart health. Integrating\\nmental health support into cardiovascular care can lead to better overall outcomes.\\nTailoring cardiovascular health initiatives to address gender-specific risk factors is\\nessential. Women may experience heart disease differently than men, and raising\\nawareness of these differences can lead to improved early detection and treatment.\\nPromoting cardiovascular health among children and adolescents is crucial to shaping\\nfuture heart health. Encouraging physical activity, limiting screen time, and fostering\\nhealthy eating habits from a young age can have lasting benefits for heart health.\\n\", 'content_type': 'text', 'score': None, 'meta': {'_split_id': 7}, 'id_hash_keys': ['content'], 'embedding': None, 'id': '3c909e09d089ebe73050039c39de9cf7'}>,\n",
              "  <Document: {'content': 'In conclusion, cardiovascular health remains a pressing public health concern, given its\\nsignificant impact on mortality and quality of life. This document has explored various\\naspects of cardiovascular health, including lifestyle modifications, diagnostic methods,\\ntreatment options, technological advancements, psychological well-being, and age-specific\\nconsiderations. By raising awareness and adopting preventive measures, individuals and\\ncommunities can work together to reduce the burden of cardiovascular diseases and\\npromote healthier hearts and lives for all', 'content_type': 'text', 'score': None, 'meta': {'_split_id': 8}, 'id_hash_keys': ['content'], 'embedding': None, 'id': 'ced3b72de8a38af5dfaa8a696d405740'}>],\n",
              " 'root_node': 'File',\n",
              " 'params': {},\n",
              " 'file_paths': ['data/cardiohealth.txt'],\n",
              " 'node_id': 'DocumentStore'}"
            ]
          },
          "metadata": {},
          "execution_count": 51
        }
      ]
    },
    {
      "cell_type": "code",
      "source": [
        "#from haystack.nodes import TfidfRetriever\n"
      ],
      "metadata": {
        "id": "jdd6f_jXeLpI"
      },
      "execution_count": null,
      "outputs": []
    },
    {
      "cell_type": "code",
      "source": [
        "from haystack.nodes import BM25Retriever\n",
        "\n",
        "retriever = BM25Retriever(document_store=document_store)\n",
        "# retriever = TfidfRetriever(document_store=document_store)\n"
      ],
      "metadata": {
        "id": "Rti4mJHbZ4MH"
      },
      "execution_count": 52,
      "outputs": []
    },
    {
      "cell_type": "code",
      "source": [
        "from haystack.nodes import FARMReader\n",
        "\n",
        "reader = FARMReader(model_name_or_path=\"deepset/roberta-base-squad2\", use_gpu=True)"
      ],
      "metadata": {
        "id": "v-R8TyL3Z8d5"
      },
      "execution_count": null,
      "outputs": []
    },
    {
      "cell_type": "code",
      "source": [
        "from haystack.pipelines import ExtractiveQAPipeline\n",
        "\n",
        "pipe = ExtractiveQAPipeline(reader, retriever)"
      ],
      "metadata": {
        "id": "sX4uPlcEaAT6"
      },
      "execution_count": 54,
      "outputs": []
    },
    {
      "cell_type": "code",
      "source": [
        "pip install gradio"
      ],
      "metadata": {
        "id": "KAhdu8zTlon_"
      },
      "execution_count": null,
      "outputs": []
    },
    {
      "cell_type": "code",
      "source": [
        "import gradio as gr"
      ],
      "metadata": {
        "id": "oYAHHTwrlmZn"
      },
      "execution_count": 56,
      "outputs": []
    },
    {
      "cell_type": "code",
      "source": [
        "# prediction = pipe.run(\n",
        "#     query=\"What are some example of cardiovascular exercises?\", params={\"Retriever\": {\"top_k\": 10}, \"Reader\": {\"top_k\": 5}}\n",
        "# )"
      ],
      "metadata": {
        "id": "-LKITc-RaC_h"
      },
      "execution_count": null,
      "outputs": []
    },
    {
      "cell_type": "code",
      "source": [
        "# from pprint import pprint\n",
        "\n",
        "# pprint(prediction)"
      ],
      "metadata": {
        "id": "uXBQQCAsaInF"
      },
      "execution_count": null,
      "outputs": []
    },
    {
      "cell_type": "code",
      "source": [
        "# from haystack.utils import print_answers\n",
        "\n",
        "# print_answers(prediction, details=\"all\")  ## Choose from `minimum`, `medium`, and `all`"
      ],
      "metadata": {
        "id": "Bg647oTRi3BI"
      },
      "execution_count": null,
      "outputs": []
    },
    {
      "cell_type": "code",
      "source": [
        "def get_top_answer(prediction):\n",
        "    answers = prediction['answers']\n",
        "    if answers:\n",
        "        highest_score = max(answer.score for answer in answers)\n",
        "        highest_score_answer = next((answer for answer in answers if answer.score == highest_score), None)\n",
        "        if highest_score_answer:\n",
        "            return highest_score_answer.answer\n",
        "    return \"No answer found.\"\n",
        "\n",
        "def answer_question(query):\n",
        "    prediction = pipe.run(query=query, params={\"Retriever\": {\"top_k\": 3}, \"Reader\": {\"top_k\": 3}})\n",
        "    return get_top_answer(prediction)\n"
      ],
      "metadata": {
        "id": "cERPcIjUFenn"
      },
      "execution_count": 60,
      "outputs": []
    },
    {
      "cell_type": "code",
      "source": [
        "# highest_score_answers = get_highest_score_answer(prediction)\n",
        "# for answer in highest_score_answers:\n",
        "#     print(answer.answer)\n"
      ],
      "metadata": {
        "id": "Zg8v_xDhFiCQ"
      },
      "execution_count": null,
      "outputs": []
    },
    {
      "cell_type": "code",
      "source": [
        "# def answer_question(query):\n",
        "#     prediction = pipe.run(query=query, params={\"Retriever\": {\"top_k\": 1}, \"Reader\": {\"top_k\": 1}})\n",
        "#     highest_score_answers = get_highest_score_answer(prediction)\n",
        "#     return [answer.answer for answer in highest_score_answers]\n"
      ],
      "metadata": {
        "id": "gmYogom0lOTY"
      },
      "execution_count": null,
      "outputs": []
    },
    {
      "cell_type": "code",
      "source": [
        "iface = gr.Interface(\n",
        "    fn=answer_question,\n",
        "    inputs=\"text\",\n",
        "    outputs=\"text\",\n",
        "    title=\"Question Answering Chatbot using Hugging face Model\",\n",
        "    description=\"Enter a question and get the answer from the pre-trained model.\",\n",
        ")"
      ],
      "metadata": {
        "id": "cWHXJvK4lQ0P"
      },
      "execution_count": 61,
      "outputs": []
    },
    {
      "cell_type": "code",
      "source": [
        "iface.launch()"
      ],
      "metadata": {
        "colab": {
          "base_uri": "https://localhost:8080/",
          "height": 616
        },
        "id": "Zo0ph1y-lSsH",
        "outputId": "a9c1c77e-8437-418e-83e2-7ec0c74ebc51"
      },
      "execution_count": 62,
      "outputs": [
        {
          "output_type": "stream",
          "name": "stdout",
          "text": [
            "Colab notebook detected. To show errors in colab notebook, set debug=True in launch()\n",
            "Note: opening Chrome Inspector may crash demo inside Colab notebooks.\n",
            "\n",
            "To create a public link, set `share=True` in `launch()`.\n"
          ]
        },
        {
          "output_type": "display_data",
          "data": {
            "text/plain": [
              "<IPython.core.display.Javascript object>"
            ],
            "application/javascript": [
              "(async (port, path, width, height, cache, element) => {\n",
              "                        if (!google.colab.kernel.accessAllowed && !cache) {\n",
              "                            return;\n",
              "                        }\n",
              "                        element.appendChild(document.createTextNode(''));\n",
              "                        const url = await google.colab.kernel.proxyPort(port, {cache});\n",
              "\n",
              "                        const external_link = document.createElement('div');\n",
              "                        external_link.innerHTML = `\n",
              "                            <div style=\"font-family: monospace; margin-bottom: 0.5rem\">\n",
              "                                Running on <a href=${new URL(path, url).toString()} target=\"_blank\">\n",
              "                                    https://localhost:${port}${path}\n",
              "                                </a>\n",
              "                            </div>\n",
              "                        `;\n",
              "                        element.appendChild(external_link);\n",
              "\n",
              "                        const iframe = document.createElement('iframe');\n",
              "                        iframe.src = new URL(path, url).toString();\n",
              "                        iframe.height = height;\n",
              "                        iframe.allow = \"autoplay; camera; microphone; clipboard-read; clipboard-write;\"\n",
              "                        iframe.width = width;\n",
              "                        iframe.style.border = 0;\n",
              "                        element.appendChild(iframe);\n",
              "                    })(7865, \"/\", \"100%\", 500, false, window.element)"
            ]
          },
          "metadata": {}
        },
        {
          "output_type": "execute_result",
          "data": {
            "text/plain": []
          },
          "metadata": {},
          "execution_count": 62
        }
      ]
    }
  ]
}